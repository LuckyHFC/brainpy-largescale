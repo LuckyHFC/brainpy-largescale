{
 "cells": [
  {
   "cell_type": "code",
   "execution_count": 1,
   "metadata": {},
   "outputs": [
    {
     "ename": "ModuleNotFoundError",
     "evalue": "No module named 'brainpy'",
     "output_type": "error",
     "traceback": [
      "\u001b[0;31m---------------------------------------------------------------------------\u001b[0m",
      "\u001b[0;31mModuleNotFoundError\u001b[0m                       Traceback (most recent call last)",
      "Cell \u001b[0;32mIn [1], line 1\u001b[0m\n\u001b[0;32m----> 1\u001b[0m \u001b[39mimport\u001b[39;00m \u001b[39mbrainpy\u001b[39;00m\u001b[39m.\u001b[39;00m\u001b[39mrespa\u001b[39;00m \u001b[39mas\u001b[39;00m \u001b[39mrespa\u001b[39;00m\n\u001b[1;32m      2\u001b[0m \u001b[39mimport\u001b[39;00m \u001b[39mbrainpy\u001b[39;00m \u001b[39mas\u001b[39;00m \u001b[39mbp\u001b[39;00m\n\u001b[1;32m      3\u001b[0m \u001b[39mimport\u001b[39;00m \u001b[39mbrainpy\u001b[39;00m\u001b[39m.\u001b[39;00m\u001b[39mmath\u001b[39;00m \u001b[39mas\u001b[39;00m \u001b[39mbm\u001b[39;00m\n",
      "\u001b[0;31mModuleNotFoundError\u001b[0m: No module named 'brainpy'"
     ]
    }
   ],
   "source": [
    "import brainpy.respa as respa\n",
    "import brainpy as bp\n",
    "import brainpy.math as bm\n",
    "\n",
    "a = respa.LIF(3200,V_rest=-60., V_th=-50., V_reset=-60., tau=20., tau_ref=5.)\n",
    "\n",
    "class MyNetwork(respa.Network):\n",
    "  def __init__(self, *ds_tuple):\n",
    "    super(MyNetwork, self).__init__(ds_tuple)\n",
    "    self.a = respa.LIF(1000,V_rest=-60., V_th=-50., V_reset=-60., tau=20., tau_ref=5.)\n",
    "    self.b = respa.LIF(800,V_rest=-60., V_th=-50., V_reset=-60., tau=20., tau_ref=5.)\n",
    "    self.c = respa.Exponential(ds_tuple[0], self.a, bp.conn.FixedProb(0.02), g_max=10,tau=5., )\n",
    "    self.d = respa.Exponential(self.a[100:], self.b, bp.conn.FixedProb(0.02), g_max=10,tau=5.)\n",
    "\n",
    "net = MyNetwork(a)\n",
    "net.build()\n",
    "inputs = respa.input_transform([(net.a, 20)])\n",
    "monitors = respa.monitor_transform([net.b], attr='spike')\n",
    "runner = respa.DSRunner(\n",
    "    net,\n",
    "    monitors=monitors,\n",
    "    inputs=inputs,\n",
    "    jit=False\n",
    ")\n",
    "runner.run(10.)\n",
    "if 'spike' in runner.mon:\n",
    "  bp.visualize.raster_plot(runner.mon.ts, runner.mon['spike'], show=True)\n",
    "  # print(net.pops_)\n",
    "  # print(net.pops_split)\n",
    "  # print(net.syns_)\n"
   ]
  },
  {
   "cell_type": "code",
   "execution_count": null,
   "metadata": {},
   "outputs": [],
   "source": [
    "# print(net.nodes())\n",
    "runner.run(10.)\n",
    "bp.visualize.raster_plot(runner.mon.ts, runner.mon['spike'], show=True)"
   ]
  },
  {
   "cell_type": "code",
   "execution_count": 3,
   "metadata": {},
   "outputs": [
    {
     "ename": "NameError",
     "evalue": "name 'bp' is not defined",
     "output_type": "error",
     "traceback": [
      "\u001b[0;31m---------------------------------------------------------------------------\u001b[0m",
      "\u001b[0;31mNameError\u001b[0m                                 Traceback (most recent call last)",
      "Cell \u001b[0;32mIn [3], line 1\u001b[0m\n\u001b[0;32m----> 1\u001b[0m \u001b[39mclass\u001b[39;00m \u001b[39mJansenRitModel\u001b[39;00m(bp\u001b[39m.\u001b[39mdyn\u001b[39m.\u001b[39mDynamicalSystem):\n\u001b[1;32m      2\u001b[0m   \u001b[39mdef\u001b[39;00m \u001b[39m__init__\u001b[39m(\u001b[39mself\u001b[39m, num, C\u001b[39m=\u001b[39m\u001b[39m135.\u001b[39m, method\u001b[39m=\u001b[39m\u001b[39m'\u001b[39m\u001b[39mexp_auto\u001b[39m\u001b[39m'\u001b[39m):\n\u001b[1;32m      3\u001b[0m     \u001b[39msuper\u001b[39m(JansenRitModel, \u001b[39mself\u001b[39m)\u001b[39m.\u001b[39m\u001b[39m__init__\u001b[39m()\n",
      "\u001b[0;31mNameError\u001b[0m: name 'bp' is not defined"
     ]
    }
   ],
   "source": [
    "class JansenRitModel(bp.dyn.DynamicalSystem):\n",
    "  def __init__(self, num, C=135., method='exp_auto'):\n",
    "    super(JansenRitModel, self).__init__()\n",
    "\n",
    "    self.num = num\n",
    "\n",
    "    # parameters #\n",
    "    self.v_max = 5.  # maximum firing rate\n",
    "    self.v0 = 6.  # firing threshold\n",
    "    self.r = 0.56  # slope of the sigmoid\n",
    "    # other parameters\n",
    "    self.A = 3.25\n",
    "    self.B = 22.\n",
    "    self.a = 100.\n",
    "    self.tau_e = 0.01  # second\n",
    "    self.tau_i = 0.02  # second\n",
    "    self.b = 50.\n",
    "    self.e0 = 2.5\n",
    "    # The connectivity constants\n",
    "    self.C1 = C\n",
    "    self.C2 = 0.8 * C\n",
    "    self.C3 = 0.25 * C\n",
    "    self.C4 = 0.25 * C\n",
    "\n",
    "    # variables #\n",
    "    # y0, y1 and y2 representing the firing rate of\n",
    "    # pyramidal, excitatory and inhibitory neurones.\n",
    "    self.y0 = bm.Variable(bm.zeros(self.num))\n",
    "    self.y1 = bm.Variable(bm.zeros(self.num))\n",
    "    self.y2 = bm.Variable(bm.zeros(self.num))\n",
    "    self.y3 = bm.Variable(bm.zeros(self.num))\n",
    "    self.y4 = bm.Variable(bm.zeros(self.num))\n",
    "    self.y5 = bm.Variable(bm.zeros(self.num))\n",
    "    self.p = bm.Variable(bm.ones(self.num) * 220.)\n",
    "\n",
    "    # integral function\n",
    "    self.derivative = bp.JointEq([self.dy0, self.dy1, self.dy2, self.dy3, self.dy4, self.dy5])\n",
    "    self.integral = bp.odeint(self.derivative, method=method)\n",
    "\n",
    "  def sigmoid(self, x):\n",
    "    return self.v_max / (1. + bm.exp(self.r * (self.v0 - x)))\n",
    "\n",
    "  def dy0(self, y0, t, y3): return y3\n",
    "\n",
    "  def dy1(self, y1, t, y4): return y4\n",
    "\n",
    "  def dy2(self, y2, t, y5): return y5\n",
    "\n",
    "  def dy3(self, y3, t, y0, y1, y2):\n",
    "    return (self.A * self.sigmoid(y1 - y2) - 2 * y3 - y0 / self.tau_e) / self.tau_e\n",
    "\n",
    "  def dy4(self, y4, t, y0, y1, p):\n",
    "    return (self.A * (p + self.C2 * self.sigmoid(self.C1 * y0)) - 2 * y4 - y1 / self.tau_e) / self.tau_e\n",
    "\n",
    "  def dy5(self, y5, t, y0, y2):\n",
    "    return (self.B * self.C4 * self.sigmoid(self.C3 * y0) - 2 * y5 - y2 / self.tau_i) / self.tau_i\n",
    "\n",
    "  def update(self, tdi):\n",
    "    t, dt = tdi['t'], tdi['dt']\n",
    "    self.y0.value, self.y1.value, self.y2.value, self.y3.value, self.y4.value, self.y5.value = \\\n",
    "      self.integral(self.y0, self.y1, self.y2, self.y3, self.y4, self.y5, t, p=self.p, dt=dt)\n",
    "\n",
    "jrm = JansenRitModel(num=6, C=bm.array([68., 128., 135., 270., 675., 1350.]))\n",
    "dt = 0.1 / 1e3\n",
    "duration=5.\n",
    "all_ps = bm.random.uniform(120, 320, size=(int(duration / dt), 1))\n",
    "runner = respa.DSRunner(\n",
    "    jrm,\n",
    "    monitors=['y0', 'y1', 'y2', 'y3', 'y4', 'y5','C1'],\n",
    "    inputs=['p', all_ps, 'iter', '='],\n",
    "    dt=dt\n",
    ")\n",
    "runner.run(duration)\n",
    "start, end = int(2 / dt), int(duration / dt)\n",
    "fig, gs = bp.visualize.get_figure(6, 3, 2, 3)\n",
    "for i in range(6):\n",
    "  fig.add_subplot(gs[i, 0])\n",
    "  title = 'E' if i == 0 else None\n",
    "  xlabel = 'time [s]' if i == 5 else None\n",
    "  bp.visualize.line_plot(runner.mon.ts[start: end], runner.mon.y1[start: end, i],\n",
    "                          title=title, xlabel=xlabel, ylabel='Hz')\n",
    "  fig.add_subplot(gs[i, 1])\n",
    "  title = 'P' if i == 0 else None\n",
    "  bp.visualize.line_plot(runner.mon.ts[start: end], runner.mon.y0[start: end, i],\n",
    "                          title=title, xlabel=xlabel)\n",
    "  fig.add_subplot(gs[i, 2])\n",
    "  title = 'I' if i == 0 else None\n",
    "  bp.visualize.line_plot(runner.mon.ts[start: end], runner.mon.y2[start: end, i],\n",
    "                          title=title, show=i == 5, xlabel=xlabel)"
   ]
  }
 ],
 "metadata": {
  "kernelspec": {
   "display_name": "Python 3.9.5 ('hj_venv': venv)",
   "language": "python",
   "name": "python3"
  },
  "language_info": {
   "codemirror_mode": {
    "name": "ipython",
    "version": 3
   },
   "file_extension": ".py",
   "mimetype": "text/x-python",
   "name": "python",
   "nbconvert_exporter": "python",
   "pygments_lexer": "ipython3",
   "version": "3.9.5"
  },
  "orig_nbformat": 4,
  "vscode": {
   "interpreter": {
    "hash": "439bc65fa08ecd12f5fec115041947fdcdea322790ff5a7cd791633c160421e5"
   }
  }
 },
 "nbformat": 4,
 "nbformat_minor": 2
}
